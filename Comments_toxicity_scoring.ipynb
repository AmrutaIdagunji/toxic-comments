{
 "cells": [
  {
   "cell_type": "markdown",
   "metadata": {
    "id": "YjOSIg_pDhQo"
   },
   "source": [
    "# Import libraries"
   ]
  },
  {
   "cell_type": "code",
   "execution_count": 1,
   "metadata": {
    "id": "x8rwkMtQDhQq"
   },
   "outputs": [],
   "source": [
    "import pandas as pd\n",
    "import numpy as np\n",
    "from textblob import TextBlob\n",
    "from spellchecker import SpellChecker\n"
   ]
  },
  {
   "cell_type": "markdown",
   "metadata": {
    "id": "s2Seel8mDhQr"
   },
   "source": [
    "# Import dataset"
   ]
  },
  {
   "cell_type": "code",
   "execution_count": 2,
   "metadata": {
    "id": "-R2O-QfBDhQs"
   },
   "outputs": [],
   "source": [
    "commentsToScore = pd.read_csv(\"comments_to_score.csv\")\n"
   ]
  },
  {
   "cell_type": "code",
   "execution_count": 3,
   "metadata": {
    "colab": {
     "base_uri": "https://localhost:8080/",
     "height": 424
    },
    "id": "6NWZSMPPDhQs",
    "outputId": "50454c7b-7a2f-4c1e-c77d-7fdde8f6bd90"
   },
   "outputs": [
    {
     "data": {
      "text/html": [
       "<div>\n",
       "<style scoped>\n",
       "    .dataframe tbody tr th:only-of-type {\n",
       "        vertical-align: middle;\n",
       "    }\n",
       "\n",
       "    .dataframe tbody tr th {\n",
       "        vertical-align: top;\n",
       "    }\n",
       "\n",
       "    .dataframe thead th {\n",
       "        text-align: right;\n",
       "    }\n",
       "</style>\n",
       "<table border=\"1\" class=\"dataframe\">\n",
       "  <thead>\n",
       "    <tr style=\"text-align: right;\">\n",
       "      <th></th>\n",
       "      <th>comment_id</th>\n",
       "      <th>text</th>\n",
       "    </tr>\n",
       "  </thead>\n",
       "  <tbody>\n",
       "    <tr>\n",
       "      <th>0</th>\n",
       "      <td>114890</td>\n",
       "      <td>\"\\n \\n\\nGjalexei, you asked about whether ther...</td>\n",
       "    </tr>\n",
       "    <tr>\n",
       "      <th>1</th>\n",
       "      <td>732895</td>\n",
       "      <td>Looks like be have an abuser , can you please ...</td>\n",
       "    </tr>\n",
       "    <tr>\n",
       "      <th>2</th>\n",
       "      <td>1139051</td>\n",
       "      <td>I confess to having complete (and apparently b...</td>\n",
       "    </tr>\n",
       "    <tr>\n",
       "      <th>3</th>\n",
       "      <td>1434512</td>\n",
       "      <td>\"\\n\\nFreud's ideas are certainly much discusse...</td>\n",
       "    </tr>\n",
       "    <tr>\n",
       "      <th>4</th>\n",
       "      <td>2084821</td>\n",
       "      <td>It is not just you. This is a laundry list of ...</td>\n",
       "    </tr>\n",
       "    <tr>\n",
       "      <th>...</th>\n",
       "      <td>...</td>\n",
       "      <td>...</td>\n",
       "    </tr>\n",
       "    <tr>\n",
       "      <th>7532</th>\n",
       "      <td>504235362</td>\n",
       "      <td>Go away, you annoying vandal.</td>\n",
       "    </tr>\n",
       "    <tr>\n",
       "      <th>7533</th>\n",
       "      <td>504235566</td>\n",
       "      <td>This user is a vandal.</td>\n",
       "    </tr>\n",
       "    <tr>\n",
       "      <th>7534</th>\n",
       "      <td>504308177</td>\n",
       "      <td>\" \\n\\nSorry to sound like a pain, but one by f...</td>\n",
       "    </tr>\n",
       "    <tr>\n",
       "      <th>7535</th>\n",
       "      <td>504570375</td>\n",
       "      <td>Well it's pretty fucking irrelevant now I'm un...</td>\n",
       "    </tr>\n",
       "    <tr>\n",
       "      <th>7536</th>\n",
       "      <td>504598250</td>\n",
       "      <td>The team name is Great Britain and Northern Ir...</td>\n",
       "    </tr>\n",
       "  </tbody>\n",
       "</table>\n",
       "<p>7537 rows × 2 columns</p>\n",
       "</div>"
      ],
      "text/plain": [
       "      comment_id                                               text\n",
       "0         114890  \"\\n \\n\\nGjalexei, you asked about whether ther...\n",
       "1         732895  Looks like be have an abuser , can you please ...\n",
       "2        1139051  I confess to having complete (and apparently b...\n",
       "3        1434512  \"\\n\\nFreud's ideas are certainly much discusse...\n",
       "4        2084821  It is not just you. This is a laundry list of ...\n",
       "...          ...                                                ...\n",
       "7532   504235362                      Go away, you annoying vandal.\n",
       "7533   504235566                           This user is a vandal.  \n",
       "7534   504308177  \" \\n\\nSorry to sound like a pain, but one by f...\n",
       "7535   504570375  Well it's pretty fucking irrelevant now I'm un...\n",
       "7536   504598250  The team name is Great Britain and Northern Ir...\n",
       "\n",
       "[7537 rows x 2 columns]"
      ]
     },
     "execution_count": 3,
     "metadata": {},
     "output_type": "execute_result"
    }
   ],
   "source": [
    "commentsToScore"
   ]
  },
  {
   "cell_type": "code",
   "execution_count": 4,
   "metadata": {
    "colab": {
     "base_uri": "https://localhost:8080/"
    },
    "id": "AvSV-92RDhQt",
    "outputId": "72dd983e-3377-4cfa-ef93-baafb0c6a92b"
   },
   "outputs": [
    {
     "name": "stdout",
     "output_type": "stream",
     "text": [
      "<class 'pandas.core.frame.DataFrame'>\n",
      "RangeIndex: 7537 entries, 0 to 7536\n",
      "Data columns (total 2 columns):\n",
      " #   Column      Non-Null Count  Dtype \n",
      "---  ------      --------------  ----- \n",
      " 0   comment_id  7537 non-null   int64 \n",
      " 1   text        7537 non-null   object\n",
      "dtypes: int64(1), object(1)\n",
      "memory usage: 117.9+ KB\n"
     ]
    }
   ],
   "source": [
    "commentsToScore.info()"
   ]
  },
  {
   "cell_type": "code",
   "execution_count": 5,
   "metadata": {
    "colab": {
     "base_uri": "https://localhost:8080/",
     "height": 300
    },
    "id": "6bVFHr6WDhQt",
    "outputId": "e1d9ef35-9e7f-467d-f529-f0bfcf6583e6"
   },
   "outputs": [
    {
     "data": {
      "text/html": [
       "<div>\n",
       "<style scoped>\n",
       "    .dataframe tbody tr th:only-of-type {\n",
       "        vertical-align: middle;\n",
       "    }\n",
       "\n",
       "    .dataframe tbody tr th {\n",
       "        vertical-align: top;\n",
       "    }\n",
       "\n",
       "    .dataframe thead th {\n",
       "        text-align: right;\n",
       "    }\n",
       "</style>\n",
       "<table border=\"1\" class=\"dataframe\">\n",
       "  <thead>\n",
       "    <tr style=\"text-align: right;\">\n",
       "      <th></th>\n",
       "      <th>comment_id</th>\n",
       "    </tr>\n",
       "  </thead>\n",
       "  <tbody>\n",
       "    <tr>\n",
       "      <th>count</th>\n",
       "      <td>7.537000e+03</td>\n",
       "    </tr>\n",
       "    <tr>\n",
       "      <th>mean</th>\n",
       "      <td>2.235192e+08</td>\n",
       "    </tr>\n",
       "    <tr>\n",
       "      <th>std</th>\n",
       "      <td>1.388817e+08</td>\n",
       "    </tr>\n",
       "    <tr>\n",
       "      <th>min</th>\n",
       "      <td>1.148900e+05</td>\n",
       "    </tr>\n",
       "    <tr>\n",
       "      <th>25%</th>\n",
       "      <td>9.857662e+07</td>\n",
       "    </tr>\n",
       "    <tr>\n",
       "      <th>50%</th>\n",
       "      <td>2.093147e+08</td>\n",
       "    </tr>\n",
       "    <tr>\n",
       "      <th>75%</th>\n",
       "      <td>3.328366e+08</td>\n",
       "    </tr>\n",
       "    <tr>\n",
       "      <th>max</th>\n",
       "      <td>5.045982e+08</td>\n",
       "    </tr>\n",
       "  </tbody>\n",
       "</table>\n",
       "</div>"
      ],
      "text/plain": [
       "         comment_id\n",
       "count  7.537000e+03\n",
       "mean   2.235192e+08\n",
       "std    1.388817e+08\n",
       "min    1.148900e+05\n",
       "25%    9.857662e+07\n",
       "50%    2.093147e+08\n",
       "75%    3.328366e+08\n",
       "max    5.045982e+08"
      ]
     },
     "execution_count": 5,
     "metadata": {},
     "output_type": "execute_result"
    }
   ],
   "source": [
    "commentsToScore.describe()"
   ]
  },
  {
   "cell_type": "markdown",
   "metadata": {
    "id": "o0gGK4BUDhQu"
   },
   "source": [
    "# Text Cleaning"
   ]
  },
  {
   "cell_type": "code",
   "execution_count": 6,
   "metadata": {
    "id": "k798VH3UDhQu"
   },
   "outputs": [],
   "source": [
    "def text_preprocess(row):\n",
    "    row = ' '.join([r for r in row.split() if r != ' ']) # removing multiple whitespaces in a row\n",
    "    row = row.replace(\"\\n\", \"\") # removing newline character\n",
    "    row = row.replace(\"\\\"\",\"\") # remove double quotes \n",
    "\n",
    "    # check spelling mistakes\n",
    "    \n",
    "    return row\n",
    "\n",
    "commentsToScore['Cleaned Text'] = commentsToScore['text'].apply(text_preprocess)\n"
   ]
  },
  {
   "cell_type": "code",
   "execution_count": 7,
   "metadata": {
    "colab": {
     "base_uri": "https://localhost:8080/"
    },
    "id": "4FZC1dCCDhQu",
    "outputId": "3996efc2-bfa9-43c4-d74b-56eef3bc2332"
   },
   "outputs": [
    {
     "data": {
      "text/plain": [
       "0        Gjalexei, you asked about whether there is an...\n",
       "1       Looks like be have an abuser , can you please ...\n",
       "2       I confess to having complete (and apparently b...\n",
       "3        Freud's ideas are certainly much discussed to...\n",
       "4       It is not just you. This is a laundry list of ...\n",
       "                              ...                        \n",
       "7532                        Go away, you annoying vandal.\n",
       "7533                               This user is a vandal.\n",
       "7534     Sorry to sound like a pain, but one by follow...\n",
       "7535    Well it's pretty fucking irrelevant now I'm un...\n",
       "7536    The team name is Great Britain and Northern Ir...\n",
       "Name: Cleaned Text, Length: 7537, dtype: object"
      ]
     },
     "execution_count": 7,
     "metadata": {},
     "output_type": "execute_result"
    }
   ],
   "source": [
    "commentsToScore['Cleaned Text']"
   ]
  },
  {
   "cell_type": "code",
   "execution_count": 8,
   "metadata": {
    "colab": {
     "base_uri": "https://localhost:8080/"
    },
    "id": "SeleNkmUf44S",
    "outputId": "1041df4e-96f4-4f12-d20b-59c5bae04bf2"
   },
   "outputs": [
    {
     "name": "stderr",
     "output_type": "stream",
     "text": [
      "/Users/amrutagajananbhat/anaconda3/envs/tf/lib/python3.7/site-packages/ipykernel_launcher.py:16: SettingWithCopyWarning: \n",
      "A value is trying to be set on a copy of a slice from a DataFrame\n",
      "\n",
      "See the caveats in the documentation: https://pandas.pydata.org/pandas-docs/stable/user_guide/indexing.html#returning-a-view-versus-a-copy\n",
      "  app.launch_new_instance()\n"
     ]
    },
    {
     "name": "stdout",
     "output_type": "stream",
     "text": [
      "CPU times: user 46min, sys: 8.84 s, total: 46min 9s\n",
      "Wall time: 46min 51s\n"
     ]
    },
    {
     "name": "stderr",
     "output_type": "stream",
     "text": [
      "/Users/amrutagajananbhat/anaconda3/envs/tf/lib/python3.7/site-packages/ipykernel_launcher.py:20: SettingWithCopyWarning: \n",
      "A value is trying to be set on a copy of a slice from a DataFrame\n",
      "\n",
      "See the caveats in the documentation: https://pandas.pydata.org/pandas-docs/stable/user_guide/indexing.html#returning-a-view-versus-a-copy\n"
     ]
    }
   ],
   "source": [
    "%%time\n",
    "def spellchecktextblob(row):\n",
    "    spell = SpellChecker()\n",
    "    listRow = list(set(spell.unknown(row.split(\" \"))))\n",
    "\n",
    "    for word in listRow:\n",
    "        #print(str(TextBlob(word).correct()))\n",
    "        row.replace(word, str(TextBlob(word).correct()))\n",
    "\n",
    "    return row\n",
    "\n",
    "length = len(commentsToScore)\n",
    "commentsToScore['Corrected spelling'] = ''\n",
    "for i in range(7):\n",
    "    batch_spellcheck = pd.DataFrame(commentsToScore['Cleaned Text'][i*1000:(i+1)*1000])\n",
    "    df = batch_spellcheck['Cleaned Text'].apply(spellchecktextblob)\n",
    "    commentsToScore['Corrected spelling'][i*1000:(i+1)*1000] = df\n",
    "\n",
    "batch_spellcheck = pd.DataFrame(commentsToScore['Cleaned Text'][7000:])\n",
    "df = batch_spellcheck['Cleaned Text'].apply(spellchecktextblob)\n",
    "commentsToScore['Corrected spelling'][7000:] = df"
   ]
  },
  {
   "cell_type": "code",
   "execution_count": 9,
   "metadata": {
    "colab": {
     "base_uri": "https://localhost:8080/"
    },
    "id": "yYu8oGaBBv7k",
    "outputId": "6d0f51fd-beae-44b6-f9a1-136abb9bbee6"
   },
   "outputs": [
    {
     "data": {
      "text/plain": [
       "7532                        Go away, you annoying vandal.\n",
       "7533                               This user is a vandal.\n",
       "7534     Sorry to sound like a pain, but one by follow...\n",
       "7535    Well it's pretty fucking irrelevant now I'm un...\n",
       "7536    The team name is Great Britain and Northern Ir...\n",
       "Name: Corrected spelling, dtype: object"
      ]
     },
     "execution_count": 9,
     "metadata": {},
     "output_type": "execute_result"
    }
   ],
   "source": [
    "commentsToScore['Corrected spelling'].tail(5)\n"
   ]
  },
  {
   "cell_type": "code",
   "execution_count": 10,
   "metadata": {
    "colab": {
     "base_uri": "https://localhost:8080/"
    },
    "id": "yl-nP9pDf5mA",
    "outputId": "4719c37e-5212-4c0b-b9a4-5dfe8be5dee4"
   },
   "outputs": [
    {
     "name": "stderr",
     "output_type": "stream",
     "text": [
      "/Users/amrutagajananbhat/anaconda3/envs/tf/lib/python3.7/site-packages/ipykernel_launcher.py:15: SettingWithCopyWarning: \n",
      "A value is trying to be set on a copy of a slice from a DataFrame\n",
      "\n",
      "See the caveats in the documentation: https://pandas.pydata.org/pandas-docs/stable/user_guide/indexing.html#returning-a-view-versus-a-copy\n",
      "  from ipykernel import kernelapp as app\n"
     ]
    },
    {
     "name": "stdout",
     "output_type": "stream",
     "text": [
      "CPU times: user 45min 55s, sys: 3.68 s, total: 45min 59s\n",
      "Wall time: 57min 27s\n"
     ]
    },
    {
     "name": "stderr",
     "output_type": "stream",
     "text": [
      "/Users/amrutagajananbhat/anaconda3/envs/tf/lib/python3.7/site-packages/ipykernel_launcher.py:19: SettingWithCopyWarning: \n",
      "A value is trying to be set on a copy of a slice from a DataFrame\n",
      "\n",
      "See the caveats in the documentation: https://pandas.pydata.org/pandas-docs/stable/user_guide/indexing.html#returning-a-view-versus-a-copy\n"
     ]
    }
   ],
   "source": [
    "%%time\n",
    "def spellchecklib(row):\n",
    "    spell = SpellChecker()\n",
    "    listRow = list(set(spell.unknown(row.split(\" \"))))\n",
    "\n",
    "    for word in listRow:\n",
    "        row.replace(word, spell.correction(word))\n",
    "\n",
    "    return row\n",
    "\n",
    "length = len(commentsToScore)\n",
    "commentsToScore['Corrected spelling(pyspellcheck)'] = ''\n",
    "for i in range(7):\n",
    "    batch_spellcheck = pd.DataFrame(commentsToScore['Cleaned Text'][i*1000:(i+1)*1000])\n",
    "    df = batch_spellcheck['Cleaned Text'].apply(spellchecktextblob)\n",
    "    commentsToScore['Corrected spelling(pyspellcheck)'][i*1000:(i+1)*1000] = df\n",
    "\n",
    "batch_spellcheck = pd.DataFrame(commentsToScore['Cleaned Text'][7000:])\n",
    "df = batch_spellcheck['Cleaned Text'].apply(spellchecktextblob)\n",
    "commentsToScore['Corrected spelling(pyspellcheck)'][7000:] = df"
   ]
  },
  {
   "cell_type": "code",
   "execution_count": 11,
   "metadata": {
    "colab": {
     "base_uri": "https://localhost:8080/"
    },
    "id": "nr9RtxtSpN5C",
    "outputId": "fee22152-5a1c-4703-ff71-79964b2d065e"
   },
   "outputs": [
    {
     "name": "stdout",
     "output_type": "stream",
     "text": [
      "0        Gjalexei, you asked about whether there is an...\n",
      "1       Looks like be have an abuser , can you please ...\n",
      "2       I confess to having complete (and apparently b...\n",
      "3        Freud's ideas are certainly much discussed to...\n",
      "4       It is not just you. This is a laundry list of ...\n",
      "                              ...                        \n",
      "7532                        Go away, you annoying vandal.\n",
      "7533                               This user is a vandal.\n",
      "7534     Sorry to sound like a pain, but one by follow...\n",
      "7535    Well it's pretty fucking irrelevant now I'm un...\n",
      "7536    The team name is Great Britain and Northern Ir...\n",
      "Name: Corrected spelling(pyspellcheck), Length: 7537, dtype: object\n"
     ]
    }
   ],
   "source": [
    "print(commentsToScore['Corrected spelling(pyspellcheck)'])"
   ]
  },
  {
   "cell_type": "code",
   "execution_count": 12,
   "metadata": {
    "id": "7uLF8yLkolDN"
   },
   "outputs": [],
   "source": [
    "commentsToScore.to_csv('cleanedtext.csv')"
   ]
  }
 ],
 "metadata": {
  "colab": {
   "collapsed_sections": [],
   "name": "Comments toxicity scoring",
   "provenance": []
  },
  "kernelspec": {
   "display_name": "Python 3",
   "language": "python",
   "name": "python3"
  },
  "language_info": {
   "codemirror_mode": {
    "name": "ipython",
    "version": 3
   },
   "file_extension": ".py",
   "mimetype": "text/x-python",
   "name": "python",
   "nbconvert_exporter": "python",
   "pygments_lexer": "ipython3",
   "version": "3.7.10"
  }
 },
 "nbformat": 4,
 "nbformat_minor": 1
}
